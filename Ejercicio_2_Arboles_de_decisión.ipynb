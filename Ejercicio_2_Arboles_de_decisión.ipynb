{
  "nbformat": 4,
  "nbformat_minor": 0,
  "metadata": {
    "kernelspec": {
      "display_name": "Python 3",
      "language": "python",
      "name": "python3"
    },
    "language_info": {
      "codemirror_mode": {
        "name": "ipython",
        "version": 3
      },
      "file_extension": ".py",
      "mimetype": "text/x-python",
      "name": "python",
      "nbconvert_exporter": "python",
      "pygments_lexer": "ipython3",
      "version": "3.8.3"
    },
    "colab": {
      "name": "Ejercicio 2 Arboles de decisión.ipynb",
      "provenance": [],
      "include_colab_link": true
    }
  },
  "cells": [
    {
      "cell_type": "markdown",
      "metadata": {
        "id": "view-in-github",
        "colab_type": "text"
      },
      "source": [
        "<a href=\"https://colab.research.google.com/github/JorgeARuedaC/Book/blob/master/Ejercicio_2_Arboles_de_decisi%C3%B3n.ipynb\" target=\"_parent\"><img src=\"https://colab.research.google.com/assets/colab-badge.svg\" alt=\"Open In Colab\"/></a>"
      ]
    },
    {
      "cell_type": "code",
      "metadata": {
        "id": "gRuMX0CQ7Jv1",
        "colab_type": "code",
        "colab": {}
      },
      "source": [
        "from sklearn.tree import DecisionTreeClassifier\n",
        "from sklearn.datasets import load_breast_cancer\n",
        "from sklearn.model_selection import train_test_split\n",
        "from sklearn.tree import export_graphviz\n",
        "import graphviz\n",
        "import matplotlib.pyplot as plt\n",
        "import numpy as np"
      ],
      "execution_count": null,
      "outputs": []
    },
    {
      "cell_type": "code",
      "metadata": {
        "id": "CutxRlHE7Jv7",
        "colab_type": "code",
        "colab": {}
      },
      "source": [
        "BC=load_breast_cancer()"
      ],
      "execution_count": null,
      "outputs": []
    },
    {
      "cell_type": "code",
      "metadata": {
        "id": "t3u4duvk7JwD",
        "colab_type": "code",
        "colab": {}
      },
      "source": [
        "X_entrenamiento,X_test,y_entrenamiento,y_test=train_test_split(BC.data,BC.target,random_state=1)"
      ],
      "execution_count": null,
      "outputs": []
    },
    {
      "cell_type": "code",
      "metadata": {
        "id": "-0TWM7X07JwK",
        "colab_type": "code",
        "colab": {}
      },
      "source": [
        "arbol2=DecisionTreeClassifier()"
      ],
      "execution_count": null,
      "outputs": []
    },
    {
      "cell_type": "code",
      "metadata": {
        "id": "RM91Se1j7JwR",
        "colab_type": "code",
        "colab": {}
      },
      "source": [
        "arbol2.fit(X_entrenamiento, y_entrenamiento)"
      ],
      "execution_count": null,
      "outputs": []
    },
    {
      "cell_type": "code",
      "metadata": {
        "id": "0wv1ANFc7JwX",
        "colab_type": "code",
        "colab": {}
      },
      "source": [
        "arbol2.score(X_test,y_test)"
      ],
      "execution_count": null,
      "outputs": []
    },
    {
      "cell_type": "code",
      "metadata": {
        "id": "k3uzLnyU7Jwd",
        "colab_type": "code",
        "colab": {}
      },
      "source": [
        "arbol2.score(X_entrenamiento, y_entrenamiento)"
      ],
      "execution_count": null,
      "outputs": []
    },
    {
      "cell_type": "code",
      "metadata": {
        "id": "mJUj4FIV7Jwk",
        "colab_type": "code",
        "colab": {}
      },
      "source": [
        "export_graphviz(arbol2,out_file= 'arbol2.dot', class_names=BC.target_names,\n",
        "                feature_names=BC.feature_names,impurity=False,filled=True)"
      ],
      "execution_count": null,
      "outputs": []
    },
    {
      "cell_type": "code",
      "metadata": {
        "id": "QYl9w56K7Jws",
        "colab_type": "code",
        "colab": {}
      },
      "source": [
        "with open ('arbol2.dot') as f:\n",
        "\tdot_graph=f.read()\n",
        "graphviz.Source (dot_graph)"
      ],
      "execution_count": null,
      "outputs": []
    },
    {
      "cell_type": "code",
      "metadata": {
        "id": "3GXw1Zzs7Jwz",
        "colab_type": "code",
        "colab": {}
      },
      "source": [
        "caract=BC.data.shape [1]\n",
        "plt.barh(range(caract),arbol2.feature_importances_)\n",
        "plt.yticks(np.arange(caract),BC.feature_names)\n",
        "plt.xlabel('Importancia de las caracteristicas')\n",
        "plt.ylabel('Caracteristica')\n",
        "plt.show"
      ],
      "execution_count": null,
      "outputs": []
    },
    {
      "cell_type": "code",
      "metadata": {
        "id": "i2p8fius7Jw6",
        "colab_type": "code",
        "colab": {}
      },
      "source": [
        "arbol2=DecisionTreeClassifier(max_depth=3)"
      ],
      "execution_count": null,
      "outputs": []
    },
    {
      "cell_type": "code",
      "metadata": {
        "id": "HQsTT9qh7JxD",
        "colab_type": "code",
        "colab": {}
      },
      "source": [
        "arbol2.fit(X_entrenamiento, y_entrenamiento)"
      ],
      "execution_count": null,
      "outputs": []
    },
    {
      "cell_type": "code",
      "metadata": {
        "id": "DZaUffu17JxI",
        "colab_type": "code",
        "colab": {}
      },
      "source": [
        "export_graphviz(arbol2,out_file= 'arbol2.dot', class_names=BC.target_names,\n",
        "                feature_names=BC.feature_names,impurity=False,filled=True)"
      ],
      "execution_count": null,
      "outputs": []
    },
    {
      "cell_type": "code",
      "metadata": {
        "id": "5wqxTBUk7JxM",
        "colab_type": "code",
        "colab": {}
      },
      "source": [
        "with open ('arbol2.dot') as f:\n",
        "\tdot_graph=f.read()\n",
        "graphviz.Source (dot_graph)"
      ],
      "execution_count": null,
      "outputs": []
    },
    {
      "cell_type": "code",
      "metadata": {
        "id": "hqWVK5sJ7JxQ",
        "colab_type": "code",
        "colab": {}
      },
      "source": [
        "arbol2.score(X_entrenamiento, y_entrenamiento)"
      ],
      "execution_count": null,
      "outputs": []
    },
    {
      "cell_type": "code",
      "metadata": {
        "id": "e196P1CU7JxU",
        "colab_type": "code",
        "colab": {}
      },
      "source": [
        "arbol2.score(X_test,y_test)"
      ],
      "execution_count": null,
      "outputs": []
    },
    {
      "cell_type": "code",
      "metadata": {
        "id": "CjViBfhj7Jxa",
        "colab_type": "code",
        "colab": {}
      },
      "source": [
        ""
      ],
      "execution_count": null,
      "outputs": []
    }
  ]
}