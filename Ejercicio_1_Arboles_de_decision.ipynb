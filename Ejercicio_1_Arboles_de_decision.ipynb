{
  "nbformat": 4,
  "nbformat_minor": 0,
  "metadata": {
    "kernelspec": {
      "display_name": "Python 3",
      "language": "python",
      "name": "python3"
    },
    "language_info": {
      "codemirror_mode": {
        "name": "ipython",
        "version": 3
      },
      "file_extension": ".py",
      "mimetype": "text/x-python",
      "name": "python",
      "nbconvert_exporter": "python",
      "pygments_lexer": "ipython3",
      "version": "3.8.3"
    },
    "colab": {
      "name": "Ejercicio 1 Arboles de decision.ipynb",
      "provenance": [],
      "include_colab_link": true
    }
  },
  "cells": [
    {
      "cell_type": "markdown",
      "metadata": {
        "id": "view-in-github",
        "colab_type": "text"
      },
      "source": [
        "<a href=\"https://colab.research.google.com/github/JorgeARuedaC/Book/blob/master/Ejercicio_1_Arboles_de_decision.ipynb\" target=\"_parent\"><img src=\"https://colab.research.google.com/assets/colab-badge.svg\" alt=\"Open In Colab\"/></a>"
      ]
    },
    {
      "cell_type": "code",
      "metadata": {
        "id": "Ql-NnHno7DRe",
        "colab_type": "code",
        "colab": {}
      },
      "source": [
        "from sklearn.tree import DecisionTreeClassifier # Importa el clasificador del Arbol de Decisión\n",
        "from sklearn.datasets import load_iris # Importa Base de Datos\n",
        "from sklearn.model_selection import train_test_split # Importa función para dividir la data\n",
        "from sklearn.tree import export_graphviz # Importa funcionalidad para dibujar el arbol de decisión\n",
        "from sklearn import metrics #Importa el modulo de calculo de accuracy\n",
        "import graphviz\n",
        "import matplotlib.pyplot as plt\n",
        "import numpy as np"
      ],
      "execution_count": null,
      "outputs": []
    },
    {
      "cell_type": "code",
      "metadata": {
        "id": "6ZrPOiyz7DRi",
        "colab_type": "code",
        "colab": {}
      },
      "source": [
        "iris=load_iris()"
      ],
      "execution_count": null,
      "outputs": []
    },
    {
      "cell_type": "code",
      "metadata": {
        "id": "lhs1Ujh17DRn",
        "colab_type": "code",
        "colab": {}
      },
      "source": [
        "X_entrenamiento,X_test,y_entrenamiento,y_test=train_test_split(iris.data,iris.target)"
      ],
      "execution_count": null,
      "outputs": []
    },
    {
      "cell_type": "code",
      "metadata": {
        "id": "fkzIQBL-7DRq",
        "colab_type": "code",
        "colab": {}
      },
      "source": [
        "arbol=DecisionTreeClassifier() # Crea el objeto del Arbol de decisión"
      ],
      "execution_count": null,
      "outputs": []
    },
    {
      "cell_type": "code",
      "metadata": {
        "id": "W2d3PrZ_7DRs",
        "colab_type": "code",
        "colab": {}
      },
      "source": [
        "arbol.fit(X_entrenamiento, y_entrenamiento) #Arbol de decisión de entrenamiento"
      ],
      "execution_count": null,
      "outputs": []
    },
    {
      "cell_type": "code",
      "metadata": {
        "id": "Mm1h5Y7K7DRw",
        "colab_type": "code",
        "colab": {}
      },
      "source": [
        "arbol.score(X_test,y_test)"
      ],
      "execution_count": null,
      "outputs": []
    },
    {
      "cell_type": "code",
      "metadata": {
        "id": "YRkGuGC57DRz",
        "colab_type": "code",
        "colab": {}
      },
      "source": [
        "arbol.score(X_entrenamiento, y_entrenamiento)"
      ],
      "execution_count": null,
      "outputs": []
    },
    {
      "cell_type": "code",
      "metadata": {
        "id": "7DmblhOy7DR4",
        "colab_type": "code",
        "colab": {}
      },
      "source": [
        "export_graphviz(arbol,out_file= 'arbol.dot', class_names=iris.target_names,\n",
        "                feature_names=iris.feature_names,impurity=False,filled=True)"
      ],
      "execution_count": null,
      "outputs": []
    },
    {
      "cell_type": "code",
      "metadata": {
        "id": "Er1MF_Mv7DR6",
        "colab_type": "code",
        "colab": {}
      },
      "source": [
        "with open ('arbol.dot') as f:\n",
        "\tdot_graph=f.read()\n",
        "graphviz.Source (dot_graph)"
      ],
      "execution_count": null,
      "outputs": []
    },
    {
      "cell_type": "code",
      "metadata": {
        "id": "hUxapYJ67DR9",
        "colab_type": "code",
        "colab": {}
      },
      "source": [
        "caract=iris.data.shape [1]\n",
        "plt.barh(range(caract),arbol.feature_importances_)\n",
        "plt.yticks(np.arange(caract),iris.feature_names)\n",
        "plt.xlabel('Importancia de las caracteristicas')\n",
        "plt.ylabel('Caracteristica')\n",
        "plt.show"
      ],
      "execution_count": null,
      "outputs": []
    },
    {
      "cell_type": "code",
      "metadata": {
        "id": "KX5nbDk_7DR_",
        "colab_type": "code",
        "colab": {}
      },
      "source": [
        "arbol=DecisionTreeClassifier(max_depth=3)"
      ],
      "execution_count": null,
      "outputs": []
    },
    {
      "cell_type": "code",
      "metadata": {
        "id": "hgZbERXI7DSC",
        "colab_type": "code",
        "colab": {}
      },
      "source": [
        "arbol.fit(X_entrenamiento, y_entrenamiento)"
      ],
      "execution_count": null,
      "outputs": []
    },
    {
      "cell_type": "code",
      "metadata": {
        "id": "UKROgs8B7DSF",
        "colab_type": "code",
        "colab": {}
      },
      "source": [
        "export_graphviz(arbol,out_file= 'arbol.dot', class_names=iris.target_names,\n",
        "                feature_names=iris.feature_names,impurity=False,filled=True)"
      ],
      "execution_count": null,
      "outputs": []
    },
    {
      "cell_type": "code",
      "metadata": {
        "id": "fBCoCndA7DSI",
        "colab_type": "code",
        "colab": {}
      },
      "source": [
        "with open ('arbol.dot') as f:\n",
        "\tdot_graph=f.read()\n",
        "graphviz.Source (dot_graph)"
      ],
      "execution_count": null,
      "outputs": []
    },
    {
      "cell_type": "code",
      "metadata": {
        "id": "u5QCAkH87DSL",
        "colab_type": "code",
        "colab": {}
      },
      "source": [
        "arbol.score(X_entrenamiento, y_entrenamiento)"
      ],
      "execution_count": null,
      "outputs": []
    },
    {
      "cell_type": "code",
      "metadata": {
        "id": "NiPdV9WR7DSO",
        "colab_type": "code",
        "colab": {}
      },
      "source": [
        "arbol.score(X_test,y_test)"
      ],
      "execution_count": null,
      "outputs": []
    }
  ]
}